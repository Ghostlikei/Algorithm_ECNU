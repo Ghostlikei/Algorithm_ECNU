{
 "cells": [
  {
   "cell_type": "code",
   "execution_count": 36,
   "id": "47ba502b",
   "metadata": {},
   "outputs": [
    {
     "name": "stdout",
     "output_type": "stream",
     "text": [
      "[3505 9879 9095 7614 1455  993 9356 5050 7563 1122]\n"
     ]
    }
   ],
   "source": [
    "import numpy as np\n",
    "array = np.random.randint(0, 10000, 10)\n",
    "print(array)"
   ]
  },
  {
   "cell_type": "code",
   "execution_count": 13,
   "id": "9399a1a7",
   "metadata": {
    "scrolled": true
   },
   "outputs": [
    {
     "data": {
      "image/png": "[encoded data removed]",
      "text/plain": [
       "<Figure size 432x288 with 1 Axes>"
      ]
     },
     "metadata": {
      "needs_background": "light"
     },
     "output_type": "display_data"
    }
   ],
   "source": [
    "import numpy as np\n",
    "import matplotlib.pyplot as plt\n",
    "import time\n",
    "\n",
    "def InsertSort(array, size):\n",
    "    for i in range(1, size):\n",
    "        key = array[i]\n",
    "        j = i-1\n",
    "        while j >= 0 and key < array[j]:\n",
    "            array[j+1] = array[j]\n",
    "            j -= 1\n",
    "        array[j+1] = key\n",
    "\n",
    "def merge(arr, l, m, r): \n",
    "    n1 = m - l + 1\n",
    "    n2 = r- m \n",
    "\n",
    "    L = [0] * (n1)\n",
    "    R = [0] * (n2)\n",
    "   \n",
    "    for i in range(0 , n1): \n",
    "        L[i] = arr[l + i] \n",
    "  \n",
    "    for j in range(0 , n2): \n",
    "        R[j] = arr[m + 1 + j] \n",
    "  \n",
    "    i = 0\n",
    "    j = 0\n",
    "    k = 1\n",
    "    while i < n1 and j < n2 : \n",
    "        if L[i] <= R[j]: \n",
    "            arr[k] = L[i] \n",
    "            i += 1\n",
    "        else: \n",
    "            arr[k] = R[j] \n",
    "            j += 1\n",
    "        k += 1\n",
    "\n",
    "    while i < n1: \n",
    "        arr[k] = L[i] \n",
    "        i += 1\n",
    "        k += 1\n",
    "\n",
    "    while j < n2: \n",
    "        arr[k] = R[j] \n",
    "        j += 1\n",
    "        k += 1\n",
    "  \n",
    "def mergeSort(arr,l,r): \n",
    "    if l < r: \n",
    "        m = int((l+(r-1))/2)\n",
    "        mergeSort(arr, l, m) \n",
    "        mergeSort(arr, m+1, r) \n",
    "        merge(arr, l, m, r)\n",
    "\n",
    "x_axis = [i for i in range(1,300,1)]\n",
    "y1_axis = []\n",
    "y2_axis = []\n",
    "\n",
    "for i in range(1,300,1):\n",
    "    array1 = np.random.randint(0,100000,i)\n",
    "    array2 = array1\n",
    "    t1 = time.time()\n",
    "    InsertSort(array1, i)\n",
    "    t2 = time.time()\n",
    "    \n",
    "    timer1 = t2 - t1\n",
    "    y1_axis.append(timer1)\n",
    "    \n",
    "    t22 = time.time()\n",
    "    mergeSort(array2,1,i-1)\n",
    "    t3 = time.time()\n",
    "    timer2 = t3-t22\n",
    "    y2_axis.append(timer2)\n",
    "\n",
    "plt.xlabel(\"size\")\n",
    "plt.ylabel(\"time\")\n",
    "plt.plot(x_axis, y1_axis)\n",
    "plt.plot(x_axis, y2_axis)\n",
    "plt.show()\n",
    "\n"
   ]
  },
  {
   "cell_type": "code",
   "execution_count": 52,
   "id": "89ca57cf",
   "metadata": {},
   "outputs": [
    {
     "name": "stdout",
     "output_type": "stream",
     "text": [
      "27|28|56|70|73|73|128|133|134|140|142|153|176|179|194|199|204|209|323|339|362|418|493|517|535|544|547|565|609|626|647|650|666|672|689|702|758|765|783|828|832|832|849|893|900|967|997|1014|1024|1040|1046|1054|1090|1127|1139|1155|1171|1173|1228|1239|1240|1259|1267|1278|1284|1299|1305|1314|1344|1351|1361|1387|1393|1400|1429|1463|1485|1489|1496|1515|1522|1537|1555|1563|1578|1599|1602|1620|1640|1655|1665|1667|1687|1697|1704|1711|1719|1764|1795|1813|"
     ]
    }
   ],
   "source": [
    "import numpy as np\n",
    "def merge(arr, l, m, r): \n",
    "    n1 = m - l + 1\n",
    "    n2 = r- m \n",
    "\n",
    "    L = [0] * (n1)\n",
    "    R = [0] * (n2)\n",
    "   \n",
    "    for i in range(0 , n1): \n",
    "        L[i] = arr[l + i] \n",
    "  \n",
    "    for j in range(0 , n2): \n",
    "        R[j] = arr[m + 1 + j] \n",
    "  \n",
    "    i = 0\n",
    "    j = 0\n",
    "    k = 1\n",
    "    while i < n1 and j < n2 : \n",
    "        if L[i] <= R[j]: \n",
    "            arr[k] = L[i] \n",
    "            i += 1\n",
    "        else: \n",
    "            arr[k] = R[j] \n",
    "            j += 1\n",
    "        k += 1\n",
    "\n",
    "    while i < n1: \n",
    "        arr[k] = L[i] \n",
    "        i += 1\n",
    "        k += 1\n",
    "\n",
    "    while j < n2: \n",
    "        arr[k] = R[j] \n",
    "        j += 1\n",
    "        k += 1\n",
    "  \n",
    "def mergeSort(arr,l,r): \n",
    "    if l < r: \n",
    "        m = int((l+(r-1))/2)\n",
    "        mergeSort(arr, l, m) \n",
    "        mergeSort(arr, m+1, r) \n",
    "        merge(arr, l, m, r)\n",
    "        \n",
    "array1 = np.random.randint(0,100000,100)\n",
    "mergeSort(array1,1,99)\n",
    "for i in range(100):\n",
    "    print(array[i],end = \"|\")"
   ]
  }
 ],
 "metadata": {
  "kernelspec": {
   "display_name": "Python 3 (ipykernel)",
   "language": "python",
   "name": "python3"
  },
  "language_info": {
   "codemirror_mode": {
    "name": "ipython",
    "version": 3
   },
   "file_extension": ".py",
   "mimetype": "text/x-python",
   "name": "python",
   "nbconvert_exporter": "python",
   "pygments_lexer": "ipython3",
   "version": "3.7.2"
  }
 },
 "nbformat": 4,
 "nbformat_minor": 5
}
